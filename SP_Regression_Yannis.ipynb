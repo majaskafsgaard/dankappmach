{
 "cells": [
  {
   "cell_type": "code",
   "execution_count": 1,
   "id": "07d30b95",
   "metadata": {},
   "outputs": [],
   "source": [
    "import pandas as pd\n",
    "import matplotlib.pyplot as plt\n",
    "import numpy as np\n",
    "import h5py\n",
    "from sklearn.model_selection import train_test_split\n",
    "from sklearn.metrics import accuracy_score\n",
    "from sklearn.metrics import roc_curve, auc\n",
    "import xgboost as xgb"
   ]
  },
  {
   "cell_type": "code",
   "execution_count": 2,
   "id": "7f3ddcc2",
   "metadata": {},
   "outputs": [],
   "source": [
    "def load_data(name):\n",
    "    with h5py.File(f'{name}.h5', 'r') as f:\n",
    "        return pd.DataFrame(f[name][:])\n",
    "\n",
    "train = load_data('train')\n",
    "test  = load_data('test')"
   ]
  },
  {
   "cell_type": "code",
   "execution_count": 3,
   "id": "5d5d2364",
   "metadata": {},
   "outputs": [],
   "source": [
    "all_variables = ['actualInteractionsPerCrossing', 'averageInteractionsPerCrossing', 'correctedActualMu', \n",
    "                 'correctedAverageMu', 'correctedScaledActualMu', 'correctedScaledAverageMu', 'NvtxReco', \n",
    "                 'p_nTracks', 'p_pt_track', 'p_eta', 'p_phi', 'p_charge', 'p_qOverP', 'p_z0', 'p_d0', \n",
    "                 'p_sigmad0', 'p_d0Sig', 'p_EptRatio', 'p_dPOverP', 'p_z0theta', 'p_etaCluster', 'p_phiCluster', \n",
    "                 'p_eCluster', 'p_rawEtaCluster', 'p_rawPhiCluster', 'p_rawECluster', 'p_eClusterLr0', 'p_eClusterLr1', \n",
    "                 'p_eClusterLr2', 'p_eClusterLr3', 'p_etaClusterLr1', 'p_etaClusterLr2', 'p_phiClusterLr2', \n",
    "                 'p_eAccCluster', 'p_f0Cluster', 'p_etaCalo', 'p_phiCalo', 'p_eTileGap3Cluster', 'p_cellIndexCluster',\n",
    "                 'p_phiModCalo', 'p_etaModCalo', 'p_dPhiTH3', 'p_R12', 'p_fTG3', 'p_weta2', 'p_Reta',\n",
    "                 'p_Rphi', 'p_Eratio', 'p_f1', 'p_f3', 'p_Rhad', 'p_Rhad1', 'p_deltaEta1', 'p_deltaPhiRescaled2',\n",
    "                 'p_TRTPID', 'p_TRTTrackOccupancy', 'p_numberOfInnermostPixelHits', 'p_numberOfPixelHits',\n",
    "                 'p_numberOfSCTHits', 'p_numberOfTRTHits', 'p_numberOfTRTXenonHits', 'p_chi2', 'p_ndof',\n",
    "                 'p_SharedMuonTrack', 'p_E7x7_Lr2', 'p_E7x7_Lr3', 'p_E_Lr0_HiG', 'p_E_Lr0_LowG', 'p_E_Lr0_MedG',\n",
    "                 'p_E_Lr1_HiG', 'p_E_Lr1_LowG', 'p_E_Lr1_MedG', 'p_E_Lr2_HiG', 'p_E_Lr2_LowG', 'p_E_Lr2_MedG',\n",
    "                 'p_E_Lr3_HiG', 'p_E_Lr3_LowG', 'p_E_Lr3_MedG', 'p_ambiguityType', 'p_asy1', 'p_author', 'p_barys1',\n",
    "                 'p_core57cellsEnergyCorrection', 'p_deltaEta0', 'p_deltaEta2', 'p_deltaEta3', 'p_deltaPhi0',\n",
    "                 'p_deltaPhi1', 'p_deltaPhi2', 'p_deltaPhi3', 'p_deltaPhiFromLastMeasurement', 'p_deltaPhiRescaled0', \n",
    "                 'p_deltaPhiRescaled1', 'p_deltaPhiRescaled3', 'p_e1152', 'p_e132', 'p_e235', 'p_e255', 'p_e2ts1', \n",
    "                 'p_ecore', 'p_emins1', 'p_etconeCorrBitset', 'p_ethad', 'p_ethad1', 'p_f1core', 'p_f3core', \n",
    "                 'p_maxEcell_energy', 'p_maxEcell_gain', 'p_maxEcell_time', 'p_maxEcell_x', 'p_maxEcell_y', \n",
    "                 'p_maxEcell_z', 'p_nCells_Lr0_HiG', 'p_nCells_Lr0_LowG', 'p_nCells_Lr0_MedG', 'p_nCells_Lr1_HiG', \n",
    "                 'p_nCells_Lr1_LowG', 'p_nCells_Lr1_MedG', 'p_nCells_Lr2_HiG', 'p_nCells_Lr2_LowG', 'p_nCells_Lr2_MedG',\n",
    "                 'p_nCells_Lr3_HiG', 'p_nCells_Lr3_LowG', 'p_nCells_Lr3_MedG', 'p_pos', 'p_pos7', 'p_poscs1', \n",
    "                 'p_poscs2', 'p_ptconeCorrBitset', 'p_ptconecoreTrackPtrCorrection', 'p_r33over37allcalo', \n",
    "                 'p_topoetconeCorrBitset', 'p_topoetconecoreConeEnergyCorrection', 'p_topoetconecoreConeSCEnergyCorrection', \n",
    "                 'p_weta1', 'p_widths1', 'p_widths2', 'p_wtots1', 'p_e233', 'p_e237', 'p_e277', 'p_e2tsts1', \n",
    "                 'p_ehad1', 'p_emaxs1', 'p_fracs1', 'p_DeltaE', 'p_E3x5_Lr0', 'p_E3x5_Lr1', 'p_E3x5_Lr2',\n",
    "                 'p_E3x5_Lr3', 'p_E5x7_Lr0', 'p_E5x7_Lr1', 'p_E5x7_Lr2', 'p_E5x7_Lr3', 'p_E7x11_Lr0', 'p_E7x11_Lr1',\n",
    "                 'p_E7x11_Lr2', 'p_E7x11_Lr3', 'p_E7x7_Lr0', 'p_E7x7_Lr1' ]\n"
   ]
  },
  {
   "cell_type": "code",
   "execution_count": 4,
   "id": "a38c3411",
   "metadata": {},
   "outputs": [
    {
     "name": "stdout",
     "output_type": "stream",
     "text": [
      "Shape of X: (162500, 160)\n",
      "Shape of y: (162500,)\n"
     ]
    }
   ],
   "source": [
    "Xall = train[all_variables]\n",
    "yall = train['Truth']\n",
    "\n",
    "print (f'Shape of X: {Xall.shape}')\n",
    "print (f'Shape of y: {yall.shape}')"
   ]
  },
  {
   "cell_type": "code",
   "execution_count": 5,
   "id": "707c715e",
   "metadata": {},
   "outputs": [
    {
     "data": {
      "text/plain": [
       "XGBRegressor(base_score=0.5, booster='gbtree', colsample_bylevel=1,\n",
       "             colsample_bynode=1, colsample_bytree=1, gamma=0, gpu_id=-1,\n",
       "             importance_type='gain', interaction_constraints='',\n",
       "             learning_rate=0.300000012, max_delta_step=0, max_depth=6,\n",
       "             min_child_weight=1, missing=nan, monotone_constraints='()',\n",
       "             n_estimators=100, n_jobs=8, num_parallel_tree=1, random_state=0,\n",
       "             reg_alpha=0, reg_lambda=1, scale_pos_weight=1, subsample=1,\n",
       "             tree_method='exact', validate_parameters=1, verbosity=None)"
      ]
     },
     "execution_count": 5,
     "metadata": {},
     "output_type": "execute_result"
    }
   ],
   "source": [
    "from sklearn.preprocessing import StandardScaler\n",
    "scaler = StandardScaler()\n",
    "Xall_train, Xall_test, yall_train, yall_test = train_test_split(Xall, yall, test_size=0.33, random_state=0)\n",
    "scaler.fit(Xall_train)\n",
    "Xall_train = scaler.transform(Xall_train)\n",
    "Xall_test = scaler.transform(Xall_test)\n",
    "import xgboost as xgb\n",
    "from xgboost.sklearn import XGBRegressor\n",
    "import shap\n",
    "modelall = XGBRegressor()\n",
    "modelall.fit(Xall_train,yall_train)"
   ]
  },
  {
   "cell_type": "code",
   "execution_count": null,
   "id": "dab25a85",
   "metadata": {},
   "outputs": [],
   "source": [
    "shap.initjs()\n",
    "explainer = shap.TreeExplainer(modelall)\n",
    "shap_values = explainer.shap_values(Xall_train)"
   ]
  },
  {
   "cell_type": "code",
   "execution_count": null,
   "id": "547e2677",
   "metadata": {},
   "outputs": [],
   "source": [
    "shap.summary_plot(shap_values, Xall_train,plot_type='bar')"
   ]
  },
  {
   "cell_type": "code",
   "execution_count": null,
   "id": "18005a75",
   "metadata": {},
   "outputs": [],
   "source": []
  },
  {
   "cell_type": "code",
   "execution_count": 6,
   "id": "2beb5271",
   "metadata": {},
   "outputs": [],
   "source": [
    "shap_variables = ['p_f3','p_Rhad1','p_weta2','p_Reta','p_d0','p_E_Lr3_MedG','p_etconeCorrBitset','p_TRTTrackOccupancy','p_z0','p_Rhad','p_deltaEta1','p_d0Sig','p_ptconeCorrBitset','p_cellIndexCluster','p_etaCalo',]\n"
   ]
  },
  {
   "cell_type": "code",
   "execution_count": 7,
   "id": "93af3ad9",
   "metadata": {},
   "outputs": [
    {
     "name": "stdout",
     "output_type": "stream",
     "text": [
      "Shape of X: (162500, 15)\n",
      "Shape of y: (162500,)\n"
     ]
    }
   ],
   "source": [
    "X = train[shap_variables]\n",
    "y = train['Truth']\n",
    "\n",
    "print (f'Shape of X: {X.shape}')\n",
    "print (f'Shape of y: {y.shape}')"
   ]
  },
  {
   "cell_type": "code",
   "execution_count": 8,
   "id": "5c7dc662",
   "metadata": {},
   "outputs": [
    {
     "data": {
      "text/plain": [
       "(121495, 15)"
      ]
     },
     "execution_count": 8,
     "metadata": {},
     "output_type": "execute_result"
    }
   ],
   "source": [
    "X = X[train['Truth'] == 1]\n",
    "X.shape"
   ]
  },
  {
   "cell_type": "markdown",
   "id": "47b72a88",
   "metadata": {},
   "source": [
    "## We are going to keep from the p_truth_E (energies in GeV) only the ones that are electrons. We observe that from the 162499 rows we keep in total 121495"
   ]
  },
  {
   "cell_type": "code",
   "execution_count": 9,
   "id": "846be260",
   "metadata": {},
   "outputs": [
    {
     "name": "stdout",
     "output_type": "stream",
     "text": [
      "0         127578.101562\n",
      "1          12434.154297\n",
      "2          47263.214844\n",
      "3         145800.296875\n",
      "4         147260.078125\n",
      "              ...      \n",
      "162495    133363.375000\n",
      "162496    136817.828125\n",
      "162497     94558.539062\n",
      "162498    188060.390625\n",
      "162499     63371.820312\n",
      "Name: p_truth_E, Length: 162500, dtype: float32\n",
      "(121495,)\n"
     ]
    }
   ],
   "source": [
    "y1 = train['p_truth_E']\n",
    "y = y1[train['Truth'] == 1]\n",
    "print(train[\"p_truth_E\"])\n",
    "print(y.shape)"
   ]
  },
  {
   "cell_type": "markdown",
   "id": "cefa0741",
   "metadata": {},
   "source": [
    "## We are importing the StandardScaler in order to normalize our data"
   ]
  },
  {
   "cell_type": "code",
   "execution_count": null,
   "id": "360caeec",
   "metadata": {},
   "outputs": [],
   "source": [
    "from sklearn.preprocessing import StandardScaler"
   ]
  },
  {
   "cell_type": "code",
   "execution_count": null,
   "id": "1d15d97d",
   "metadata": {},
   "outputs": [],
   "source": [
    "scaler = StandardScaler()"
   ]
  },
  {
   "cell_type": "code",
   "execution_count": 10,
   "id": "355062df",
   "metadata": {},
   "outputs": [],
   "source": [
    "X_train, X_test, y_train, y_test = train_test_split(X, y, test_size=0.33, random_state=0)"
   ]
  },
  {
   "cell_type": "code",
   "execution_count": null,
   "id": "e8ba9aba",
   "metadata": {},
   "outputs": [],
   "source": [
    "X_train = scaler.fit_transform(X_train)\n",
    "X_train.mean(axis=0)\n",
    "X_test = scaler.fit_transform(X_test)"
   ]
  },
  {
   "cell_type": "code",
   "execution_count": null,
   "id": "628d8030",
   "metadata": {},
   "outputs": [],
   "source": [
    "X_test.std(axis=0)"
   ]
  },
  {
   "cell_type": "code",
   "execution_count": 11,
   "id": "51d40cc1",
   "metadata": {},
   "outputs": [],
   "source": [
    "import xgboost as xgb\n",
    "from xgboost.sklearn import XGBRegressor\n",
    "import shap"
   ]
  },
  {
   "cell_type": "code",
   "execution_count": 12,
   "id": "331b67db",
   "metadata": {},
   "outputs": [
    {
     "data": {
      "text/plain": [
       "XGBRegressor(base_score=0.5, booster='gbtree', colsample_bylevel=1,\n",
       "             colsample_bynode=1, colsample_bytree=1, gamma=0, gpu_id=-1,\n",
       "             importance_type='gain', interaction_constraints='',\n",
       "             learning_rate=0.300000012, max_delta_step=0, max_depth=6,\n",
       "             min_child_weight=1, missing=nan, monotone_constraints='()',\n",
       "             n_estimators=100, n_jobs=8, num_parallel_tree=1,\n",
       "             objective='reg:linear', random_state=0, reg_alpha=0, reg_lambda=1,\n",
       "             scale_pos_weight=1, subsample=1, tree_method='exact',\n",
       "             validate_parameters=1, verbosity=0)"
      ]
     },
     "execution_count": 12,
     "metadata": {},
     "output_type": "execute_result"
    }
   ],
   "source": [
    "model = XGBRegressor(objective=\"reg:linear\",verbosity=0)\n",
    "model.fit(X_train,y_train)"
   ]
  },
  {
   "cell_type": "code",
   "execution_count": 13,
   "id": "2ab595fd",
   "metadata": {},
   "outputs": [],
   "source": [
    "from sklearn.model_selection import cross_val_score\n",
    "from sklearn.metrics import mean_squared_error"
   ]
  },
  {
   "cell_type": "code",
   "execution_count": 14,
   "id": "77fb57c0",
   "metadata": {},
   "outputs": [
    {
     "name": "stdout",
     "output_type": "stream",
     "text": [
      "0.7924688933056511\n"
     ]
    }
   ],
   "source": [
    "score = model.score(X_train, y_train)\n",
    "print(score)"
   ]
  },
  {
   "cell_type": "code",
   "execution_count": 15,
   "id": "6601f1c7",
   "metadata": {},
   "outputs": [
    {
     "data": {
      "text/plain": [
       "0.7376957802116586"
      ]
     },
     "execution_count": 15,
     "metadata": {},
     "output_type": "execute_result"
    }
   ],
   "source": [
    "model.score(X_test, y_test)"
   ]
  },
  {
   "cell_type": "code",
   "execution_count": 22,
   "id": "483b3b43",
   "metadata": {},
   "outputs": [
    {
     "name": "stdout",
     "output_type": "stream",
     "text": [
      "[0.71948572 0.7322331  0.73333876 0.72877813 0.73307217 0.73101098\n",
      " 0.73654821 0.72501582 0.72682242 0.73149918]\n"
     ]
    }
   ],
   "source": [
    "cv_score = cross_val_score(model, X_train, y_train, cv = 10)\n",
    "print(cv_score)"
   ]
  },
  {
   "cell_type": "code",
   "execution_count": 23,
   "id": "6c44a3b9",
   "metadata": {
    "scrolled": true
   },
   "outputs": [
    {
     "name": "stdout",
     "output_type": "stream",
     "text": [
      "23373.91\n",
      "[217131.92 116684.89 123824.39 ... 194187.92  89931.15 181689.78]\n"
     ]
    }
   ],
   "source": [
    "ypred = model.predict(X_test)\n",
    "\n",
    "mse = mean_squared_error(y_test, ypred)\n",
    "print(np.sqrt(mse))\n",
    "print(ypred)"
   ]
  },
  {
   "cell_type": "code",
   "execution_count": 27,
   "id": "6e324f41",
   "metadata": {},
   "outputs": [],
   "source": [
    "testData = test[shap_variables]"
   ]
  },
  {
   "cell_type": "code",
   "execution_count": 30,
   "id": "89e0d7ac",
   "metadata": {},
   "outputs": [
    {
     "name": "stdout",
     "output_type": "stream",
     "text": [
      "                    0\n",
      "0        99896.898438\n",
      "1        79680.765625\n",
      "2       236025.703125\n",
      "3       112898.382812\n",
      "4        89393.562500\n",
      "...               ...\n",
      "160646  199074.906250\n",
      "160647   69156.945312\n",
      "160648  102538.398438\n",
      "160649   79431.507812\n",
      "160650  151392.187500\n",
      "\n",
      "[160651 rows x 1 columns]\n"
     ]
    }
   ],
   "source": [
    "predict_test = model.predict(testData)\n",
    "predict_test = pd.DataFrame(predict_test)\n",
    "#predict_test.columns = [\"not an electron\", \"it is an electron\"]\n",
    "#predict_test = predict_test[\"it is an electron\"]\n",
    "print(predict_test)\n",
    "predict_test.to_csv('Regression_IoannisMageiras_XGBoostTEST.txt', sep = ',', header = None, index = True, mode = 'a')"
   ]
  },
  {
   "cell_type": "code",
   "execution_count": 24,
   "id": "5f2238c6",
   "metadata": {},
   "outputs": [],
   "source": [
    "from sklearn.metrics import mean_absolute_error"
   ]
  },
  {
   "cell_type": "markdown",
   "id": "d8278c8e",
   "metadata": {},
   "source": [
    "### The mean absolute error is:"
   ]
  },
  {
   "cell_type": "code",
   "execution_count": 25,
   "id": "b6839b3b",
   "metadata": {},
   "outputs": [
    {
     "name": "stdout",
     "output_type": "stream",
     "text": [
      "Mean absolute error 17860.338\n"
     ]
    }
   ],
   "source": [
    "mae = mean_absolute_error(y_test,ypred)\n",
    "print(\"Mean absolute error\",mae)"
   ]
  },
  {
   "cell_type": "markdown",
   "id": "f35d696f",
   "metadata": {},
   "source": [
    "## Visually"
   ]
  },
  {
   "cell_type": "code",
   "execution_count": 26,
   "id": "687e9606",
   "metadata": {},
   "outputs": [
    {
     "data": {
      "image/png": "[encoded data removed]",
      "text/plain": [
       "<Figure size 432x288 with 1 Axes>"
      ]
     },
     "metadata": {
      "needs_background": "light"
     },
     "output_type": "display_data"
    }
   ],
   "source": [
    "x_ax = range(len(y_test))\n",
    "plt.plot(x_ax,y_test,label=\"original\")\n",
    "plt.plot(x_ax,ypred,label=\"predicted\")\n",
    "plt.xlim(0,100)\n",
    "plt.legend();\n",
    "plt.show()"
   ]
  },
  {
   "cell_type": "code",
   "execution_count": null,
   "id": "22ac613d",
   "metadata": {},
   "outputs": [],
   "source": []
  },
  {
   "cell_type": "code",
   "execution_count": null,
   "id": "bb9bf387",
   "metadata": {},
   "outputs": [],
   "source": []
  }
 ],
 "metadata": {
  "kernelspec": {
   "display_name": "Python 3",
   "language": "python",
   "name": "python3"
  },
  "language_info": {
   "codemirror_mode": {
    "name": "ipython",
    "version": 3
   },
   "file_extension": ".py",
   "mimetype": "text/x-python",
   "name": "python",
   "nbconvert_exporter": "python",
   "pygments_lexer": "ipython3",
   "version": "3.8.8"
  }
 },
 "nbformat": 4,
 "nbformat_minor": 5
}
