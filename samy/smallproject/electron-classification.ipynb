{
 "cells": [
  {
   "cell_type": "code",
   "metadata": {
    "tags": [],
    "cell_id": "00000-2d40b8b5-2729-4791-8b30-4b0e14e35b4c",
    "deepnote_to_be_reexecuted": false,
    "source_hash": "bb7eed88",
    "execution_start": 1620657666737,
    "execution_millis": 2903,
    "deepnote_cell_type": "code"
   },
   "source": "import h5py\nimport pandas as pd\nimport sklearn \nfrom sklearn.decomposition import PCA\n \n\ndef load_data(name):\n    with h5py.File(f'data/{name}.h5', 'r') as f:\n        return pd.DataFrame(f[name][:])\n\ntrain = load_data('train')\ntest  = load_data('test')\n\nfeatures = train.columns",
   "execution_count": null,
   "outputs": []
  },
  {
   "cell_type": "code",
   "metadata": {
    "tags": [],
    "cell_id": "00001-d49ab865-d8fc-4676-aea2-e7de6f51f590",
    "deepnote_to_be_reexecuted": false,
    "source_hash": "bba31928",
    "execution_start": 1620657669657,
    "execution_millis": 5988,
    "deepnote_cell_type": "code"
   },
   "source": "from sklearn.preprocessing import StandardScaler\n\nX = train.loc[:, features].values\ny  = train.loc[:,['Truth']].values\nX = StandardScaler().fit_transform(X)\n\n",
   "execution_count": null,
   "outputs": []
  },
  {
   "cell_type": "markdown",
   "source": "Testing tensorflow & sequential keras api using built in mnist dataset",
   "metadata": {
    "tags": [],
    "cell_id": "00003-9bb18023-638b-4f13-8a99-3846f9f7917f",
    "deepnote_cell_type": "markdown"
   }
  },
  {
   "cell_type": "code",
   "metadata": {
    "tags": [],
    "cell_id": "00002-ce757704-ad16-466f-8948-b3bf3e8e375a",
    "deepnote_to_be_reexecuted": false,
    "source_hash": "1f7e59d0",
    "execution_start": 1620809925780,
    "execution_millis": 2531,
    "deepnote_cell_type": "code"
   },
   "source": "import tensorflow as tf\nfrom tensorflow import keras\nfrom tensorflow.keras import layers\nfrom tensorflow.keras.datasets import mnist\n\n(x_train, y_train), (x_test, y_test) = mnist.load_data()\nx_train = x_train.reshape(-1,784).astype(\"float32\") / 255.0 #flattening pixel data for better use by the NN, converting pixel data to be between 0 and 1\nx_test = x_test.reshape(-1,784).astype(\"float32\") / 255.0\n\n#seq api - 1 input to one output\n\nmodel = keras.Sequential(\n\n    [\n        layers.Dense(512, activation= 'relu'),\n        layers.Dense(256, activation='relu'),\n        layers.Dense(10),\n    ]\n\n)\n\nmodel.compile(\n    loss = keras.losses.SparseCategoricalCrossentropy(from_logits=True),\n    optimizer = keras.optimizers.Adam(lr=0.001),\n    metrics = [\"accuracy\"],\n)\n\nmodel.fit(x_train, y_train, batch_size=32, epochs=5, verbose = 2)\nmodel.evaluate(x_test, y_test, batch_size=32, verbose=2)",
   "execution_count": 4,
   "outputs": [
    {
     "name": "stdout",
     "text": "Epoch 1/5\n",
     "output_type": "stream"
    }
   ]
  },
  {
   "cell_type": "markdown",
   "source": "<a style='text-decoration:none;line-height:16px;display:flex;color:#5B5B62;padding:10px;justify-content:end;' href='https://deepnote.com?utm_source=created-in-deepnote-cell&projectId=c2f66fb5-264b-4f73-9265-1f34ca765c01' target=\"_blank\">\n<img alt='Created in deepnote.com' style='display:inline;max-height:16px;margin:0px;margin-right:7.5px;' src='data:image/svg+xml;base64,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' > </img>\nCreated in <span style='font-weight:600;margin-left:4px;'>Deepnote</span></a>",
   "metadata": {
    "tags": [],
    "created_in_deepnote_cell": true,
    "deepnote_cell_type": "markdown"
   }
  }
 ],
 "nbformat": 4,
 "nbformat_minor": 2,
 "metadata": {
  "orig_nbformat": 2,
  "deepnote": {
   "is_reactive": false
  },
  "deepnote_notebook_id": "6884df5b-bddc-4538-8540-722c1bda884d",
  "deepnote_execution_queue": [
   {
    "cellId": "00002-ce757704-ad16-466f-8948-b3bf3e8e375a",
    "sessionId": "9234ff58-fcf6-4506-8b64-484586ab1cd2",
    "msgId": "8667106e-6a2f-4ac6-952f-58b3d22b6907"
   }
  ]
 }
}