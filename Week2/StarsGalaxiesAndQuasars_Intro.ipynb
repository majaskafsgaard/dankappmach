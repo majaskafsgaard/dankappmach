{
  "cells": [
    {
      "cell_type": "markdown",
      "source": "# Classification of stars, galaxies, and quasars\n\nUsing a query, you should try to obtain three data files each contains 10000 observations of stars, galaxies, and quasars, respectively, which are distinctly different objects.\n\nAs this is data resuting from a (raw) query, it has got several missing/9999 values and other flaws to consider, before applying any further data analysis. You need to fix this!\n\nThus, this exercise first consists of **Inspecting and Cleaning the data**.\n\n### Features:\nThe data features / input variables (X) are:\n* ID:   unique object ID in the database\n* ra:   right ascension (coordinate)\n* dec:  declination (coordinate)\n* istar:        log-likelihood that the object is point-like, given by the pipeline run on the images\n* gmag:  magnitude in g-band\n* rmag: magnitude in r-band\n* imag: magnitude in i-band\n* zmag: magnitude in z-band\n* W1:   magnitude in W1-band (from AllWISE)\n* W2:   magnitude in W2-band (from AllWISE)\n* psfgmag:      PSF magnitude in g-band (i.e. the best-fit magnitude of a point-like object fit to the pixel data)\n* psfrmag:      PSF magnitude in r-band (i.e. the best-fit magnitude of a point-like object fit to the pixel data)\n* psfimag:      PSF magnitude in i-band (i.e. the best-fit magnitude of a point-like object fit to the pixel data)\n* W3:   magnitude in W3-band (from AllWISE)\n* W3err:        uncertainty on magnitude in W1-band (from AllWISE)\n* J:    magnitude in J-band (from 2MASS, in AllWISE)\n* Jerr: uncertainty on J\n* H:    magnitude in J-band (from 2MASS, in AllWISE)\n* Herr: uncertainty on H\n* K:    magnitude in J-band (from 2MASS, in AllWISE)\n* Kerr: uncertainty on K\n* umag: magnitude in u-band\n* zs: \"true\" redshift\n\nMake sure that you shortly think about (and discuss) which of these features should be included, if you want to try to identify which type of object it is.\n\nAlso, this time there is no target value (Y) given in the data. However, given the query selection (by other means) to be stars, galaxies, and quasars, you can consider the file type to be the target. But you need to put these three files together and add a column with the target (i.e. file origin) value.\n\n\n### Task:\nThus, the task before you is to:<br>\n1) Make three queries, which produces three files of data containing stars, galaxies, and quasars.<br>\n2) Combine the three data files into one, which has a target value corresponding to the file type.<br>\n3) Read and inspect this data, and make sure that you understand what it (roughly) looks like.<br>\n4) Clean/cut (or impute) the data, such that different (unsupervised) analysis techniques will work.<br>\n5) Run a (k)PCA (and later other techniques) on it, and see what the resulting distributions looks like.<br>\n\nDo you in the end manage to get e.g. get three well separated classes out?<br>\n\n***\n\n* Author: Troels C. Petersen (NBI)\n* Email:  petersen@nbi.dk\n* Date:   3rd of May 2021",
      "metadata": {
        "cell_id": "00000-45565758-39d4-44bc-a007-7eda23375971",
        "deepnote_cell_type": "markdown"
      }
    },
    {
      "cell_type": "code",
      "metadata": {
        "cell_id": "00001-83b1ac91-7403-41cd-bebd-0183b454610c",
        "deepnote_to_be_reexecuted": false,
        "source_hash": "2eefdb4c",
        "execution_start": 1620051081128,
        "execution_millis": 0,
        "deepnote_cell_type": "code"
      },
      "source": "from __future__ import print_function, division   # Ensures Python3 printing & division standard\nfrom matplotlib import pyplot as plt\nimport numpy as np\nimport pandas as pd\nfrom sklearn.decomposition import PCA, IncrementalPCA",
      "execution_count": null,
      "outputs": []
    },
    {
      "cell_type": "code",
      "metadata": {
        "tags": [],
        "cell_id": "00002-6e4abb24-f6d3-4df5-a0da-cbea65bf1f80",
        "deepnote_to_be_reexecuted": false,
        "source_hash": "f47562b8",
        "execution_start": 1620052067504,
        "execution_millis": 170,
        "deepnote_cell_type": "code"
      },
      "source": "allfiles = ['Data_Galaxies.txt','Data_Quasars.txt','Data_Stars.txt']\n\nindex_col = 'ID'\n\ndfs = [pd.read_csv(filename, index_col=index_col) for filename in allfiles]\ni=0\nfor df in dfs:\n    dfs[i]['source'] = allfiles[i]\n    i+1\n\nmerged_df_2 = pd.concat(dfs)\nprint(merged_df_2)\n\n",
      "execution_count": null,
      "outputs": [
        {
          "name": "stdout",
          "text": "                             ra        dec        istar      gmag      rmag  \\\nID                                                                            \n1237649918426415808    9.254510  13.818784   -28.583860  22.80513  20.86707   \n1237652942639202897    1.786889  14.392791   -28.201030  22.61204  20.91495   \n1237652942639267859    1.908622  14.497953 -6275.146000  18.34751  17.21329   \n1237652942639333782    2.068091  14.467087   -19.421730  22.34108  20.65322   \n1237652944249028825  359.916063  15.607598 -2156.052000  18.68034  17.69513   \n...                         ...        ...          ...       ...       ...   \n1237663784751792318   40.044881   0.609199    -2.785142  19.04584  17.62281   \n1237663785276801114   12.901164   0.980016   -46.915640  18.00692  17.33035   \n1237663785276932271   13.237769   1.012060   -18.991050  21.02905  19.46825   \n1237663785277194303   13.849441   0.903742  -210.847900  15.61581  15.09167   \n1237663785277259952   14.057410   0.914362   -73.580420  17.88042  16.45881   \n\n                         imag      zmag      W1      W2   psfgmag  ...  \\\nID                                                                 ...   \n1237649918426415808  19.86073  19.40347  15.624  15.748  23.05673  ...   \n1237652942639202897  19.98573  19.42935  15.631  15.854  23.49406  ...   \n1237652942639267859  16.71394  16.31988  13.916  13.749  19.69872  ...   \n1237652942639333782  19.75191  19.19925  15.872  15.847  22.82141  ...   \n1237652944249028825  17.26544  16.89467  14.558  14.451  19.67504  ...   \n...                       ...       ...     ...     ...       ...  ...   \n1237663784751792318  16.71206  16.23755  13.954  13.929  19.02711  ...   \n1237663785276801114  17.08265  16.99487  15.410  15.403  18.00322  ...   \n1237663785276932271  18.06293  17.28976  14.822  14.947  21.02102  ...   \n1237663785277194303  14.93607  14.87516  13.504  13.550  15.60797  ...   \n1237663785277259952  15.18252  14.50631  12.128  11.981  17.87350  ...   \n\n                        W3err         J      Jerr         H      Herr  \\\nID                                                                      \n1237649918426415808  9999.000  9999.000  9999.000  9999.000  9999.000   \n1237652942639202897  9999.000  9999.000  9999.000  9999.000  9999.000   \n1237652942639267859     0.391    15.932     0.092    14.987     0.081   \n1237652942639333782  9999.000  9999.000  9999.000  9999.000  9999.000   \n1237652944249028825  9999.000    16.035     0.089    15.456     0.135   \n...                       ...       ...       ...       ...       ...   \n1237663784751792318  9999.000    14.946     0.040    14.364     0.037   \n1237663785276801114  9999.000    16.252     0.105    15.438     0.124   \n1237663785276932271  9999.000    15.904     0.075    15.206     0.105   \n1237663785277194303  9999.000    13.972     0.028    13.576     0.029   \n1237663785277259952     0.309    13.141     0.024    12.566     0.027   \n\n                            K      Kerr      umag        zs             source  \nID                                                                              \n1237649918426415808  9999.000  9999.000  23.42103  0.507542  Data_Galaxies.txt  \n1237652942639202897  9999.000  9999.000  22.55242  0.532977  Data_Galaxies.txt  \n1237652942639267859    14.563     0.109  20.42177  0.115254  Data_Galaxies.txt  \n1237652942639333782  9999.000  9999.000  24.11596  0.517908  Data_Galaxies.txt  \n1237652944249028825    15.115     0.142  20.62453  0.119736  Data_Galaxies.txt  \n...                       ...       ...       ...       ...                ...  \n1237663784751792318    14.073     0.050  21.74448  0.000074                NaN  \n1237663785276801114    15.819     0.221  19.69802 -0.000523                NaN  \n1237663785276932271    15.185     0.148  23.24605 -0.000150                NaN  \n1237663785277194303    13.566     0.044  17.23314  0.000097                NaN  \n1237663785277259952    12.290     0.019  20.44086 -0.000133                NaN  \n\n[30000 rows x 23 columns]\n",
          "output_type": "stream"
        }
      ]
    },
    {
      "cell_type": "code",
      "metadata": {
        "tags": [],
        "cell_id": "00004-66af9b82-4b62-4f40-b7f1-36f18bb8699f",
        "deepnote_to_be_reexecuted": false,
        "source_hash": "bebbd18f",
        "execution_start": 1620050413679,
        "execution_millis": 371,
        "deepnote_cell_type": "code"
      },
      "source": "gal = pd.read_csv('GALAXY.csv')\nstar = pd.read_csv('STAR.csv')\nqso = pd.read_csv('QSO.csv')\n\nallfiles = ['GALAXY.csv','STAR.csv','QSO.csv']\nindex_col = 'ID'\ndfs = [pd.read_csv(filename, index_col=index_col) for filename in allfiles]\ni=0\nfor df in dfs:\n    dfs[i]['source'] = allfiles[i]\n    i+1\nmerged_df = pd.concat(dfs)\n#print(merged_df)",
      "execution_count": null,
      "outputs": []
    },
    {
      "cell_type": "code",
      "metadata": {
        "tags": [],
        "cell_id": "00004-5b21aadf-a260-41b9-aaa1-f1af751bc4b7",
        "deepnote_to_be_reexecuted": false,
        "source_hash": "d954327f",
        "execution_start": 1620050416099,
        "execution_millis": 16,
        "deepnote_cell_type": "code"
      },
      "source": "fun = pd.concat([gal, star, qso])\ngal['class'] = 'GALAXY'\nstar['class'] = 'STAR'\nqso['class'] = 'QSO'\ntotal = pd.concat([gal, star, qso])",
      "execution_count": null,
      "outputs": []
    },
    {
      "cell_type": "code",
      "metadata": {
        "tags": [],
        "cell_id": "00005-7303be69-4680-4c23-ad59-2661835b5e61",
        "deepnote_to_be_reexecuted": false,
        "source_hash": "536ee3f",
        "execution_start": 1620050473379,
        "execution_millis": 486,
        "deepnote_cell_type": "code"
      },
      "source": "pca = PCA(n_components = 2)\npca.fit(fun)\nPCA(copy = True, iterated_power = 'auto', n_components = 2, random_state = None,\n   svd_solver = 'auto', tol = 0.0, whiten = False)\nprint(pca.explained_variance_ratio_)",
      "execution_count": null,
      "outputs": [
        {
          "name": "stdout",
          "text": "[1.00000000e+00 1.44530517e-18]\n",
          "output_type": "stream"
        }
      ]
    },
    {
      "cell_type": "code",
      "metadata": {
        "tags": [],
        "cell_id": "00006-c8829b12-4eee-47a0-bf0b-7c596a1832da",
        "deepnote_cell_type": "code"
      },
      "source": "from sklearn.preprocessing import RobustScaler\n",
      "execution_count": null,
      "outputs": []
    },
    {
      "cell_type": "code",
      "metadata": {
        "tags": [],
        "cell_id": "00006-b83d28a5-8d05-46e0-ae56-2cdc63b6cf11",
        "deepnote_to_be_reexecuted": false,
        "source_hash": "3e3d3b88",
        "execution_start": 1620052355947,
        "execution_millis": 36,
        "deepnote_cell_type": "code"
      },
      "source": "from sklearn.preprocessing import StandardScaler\n\nfeatures = fun.columns\n\n\nx = fun.loc[:,features].values\n\nx_scaled = StandardScaler().fit_transform(x)\n\n#x_scaled = pd.DataFrame(x_scaled, columns = features)\n\nprint(x_scaled)\n\n\n",
      "execution_count": null,
      "outputs": [
        {
          "name": "stdout",
          "text": "[[-1.68205440e+00  2.23197265e+00 -1.53229683e+00 ... -1.46469554e+00\n  -2.83589312e-03 -6.38896900e-01]\n [-1.68205440e+00  2.23201008e+00 -1.52991483e+00 ... -1.46467729e+00\n   5.50334646e-04 -5.44640858e-01]\n [-1.68205440e+00  2.23269976e+00 -1.53154256e+00 ... -1.46468588e+00\n   1.58572317e-02 -4.20424383e-01]\n ...\n [-1.68500988e-01 -4.02526416e-01 -6.01761719e-01 ...  6.82738854e-01\n   1.20524999e-02  8.61278581e-01]\n [-1.68382431e-01 -4.00090345e-01 -5.31520202e-01 ...  6.82738854e-01\n   2.81801670e-03  3.13545362e-01]\n [-1.68382424e-01 -3.98943289e-01 -5.23694934e-01 ...  6.82738854e-01\n   7.67803905e-03  8.36690296e-01]]\n",
          "output_type": "stream"
        }
      ]
    },
    {
      "cell_type": "code",
      "metadata": {
        "tags": [],
        "cell_id": "00007-93fe616a-f588-476c-9b2e-5a02b3d4762e",
        "deepnote_to_be_reexecuted": false,
        "source_hash": "14be9188",
        "execution_start": 1620052497342,
        "execution_millis": 137,
        "deepnote_cell_type": "code"
      },
      "source": "pca_scaled = PCA(n_components = 23)\npca_scaled.fit(x_scaled)\nPCA(copy = True, iterated_power = 'auto', n_components = 23, random_state = None,\n   svd_solver = 'auto', tol = 0.0, whiten = False)\nprint(pca_scaled.explained_variance_ratio_)\n#print(pca_scaled.singular_values_)\n",
      "execution_count": null,
      "outputs": [
        {
          "name": "stdout",
          "text": "[3.16094904e-01 2.94614346e-01 6.99075515e-02 5.08840947e-02\n 4.72114895e-02 4.48069207e-02 4.32201497e-02 3.58002330e-02\n 3.24312024e-02 2.97032190e-02 2.41265162e-02 5.76723791e-03\n 2.93056798e-03 2.04193027e-03 4.48206230e-04 7.94129950e-06\n 2.12584218e-06 8.78700473e-07 4.29500430e-07 4.46090369e-08\n 1.03895206e-08 4.61951205e-11 1.51152057e-11]\n",
          "output_type": "stream"
        }
      ]
    },
    {
      "cell_type": "code",
      "metadata": {
        "tags": [],
        "cell_id": "00009-5391daaa-52b8-47fd-bf84-0e81c573d59e",
        "deepnote_to_be_reexecuted": false,
        "source_hash": "49d1d098",
        "execution_start": 1620052368184,
        "execution_millis": 8,
        "deepnote_cell_type": "code"
      },
      "source": "print(x_scaled.shape)",
      "execution_count": null,
      "outputs": [
        {
          "name": "stdout",
          "text": "(30000, 23)\n",
          "output_type": "stream"
        }
      ]
    },
    {
      "cell_type": "code",
      "metadata": {
        "tags": [],
        "cell_id": "00010-dc8b92b5-8564-43cb-8223-052ef972a66d",
        "deepnote_cell_type": "code"
      },
      "source": "",
      "execution_count": null,
      "outputs": []
    },
    {
      "cell_type": "markdown",
      "source": "<a style='text-decoration:none;line-height:16px;display:flex;color:#5B5B62;padding:10px;justify-content:end;' href='https://deepnote.com?utm_source=created-in-deepnote-cell&projectId=68e70cc0-4a2e-4baa-91ca-7b7df4c59022' target=\"_blank\">\n<img alt='Created in deepnote.com' style='display:inline;max-height:16px;margin:0px;margin-right:7.5px;' src='data:image/svg+xml;base64,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' > </img>\nCreated in <span style='font-weight:600;margin-left:4px;'>Deepnote</span></a>",
      "metadata": {
        "tags": [],
        "created_in_deepnote_cell": true,
        "deepnote_cell_type": "markdown"
      }
    }
  ],
  "nbformat": 4,
  "nbformat_minor": 2,
  "metadata": {
    "kernelspec": {
      "name": "python394jvsc74a57bd09aed9794011b56b1cb8549bc1e0a0dcbbbde7b95376fab0f8fdec0319b06a8fb",
      "display_name": "Python 3.9.4 64-bit"
    },
    "language_info": {
      "codemirror_mode": {
        "name": "ipython",
        "version": 3
      },
      "file_extension": ".py",
      "mimetype": "text/x-python",
      "name": "python",
      "nbconvert_exporter": "python",
      "pygments_lexer": "ipython3",
      "version": "3.9.4"
    },
    "metadata": {
      "interpreter": {
        "hash": "9aed9794011b56b1cb8549bc1e0a0dcbbbde7b95376fab0f8fdec0319b06a8fb"
      }
    },
    "deepnote_notebook_id": "c3805142-d4f8-4acd-94fe-63c8c114ff51",
    "deepnote": {},
    "deepnote_execution_queue": []
  }
}