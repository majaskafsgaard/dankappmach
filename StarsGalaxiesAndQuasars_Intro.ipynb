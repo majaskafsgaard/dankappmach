{
 "cells": [
  {
   "cell_type": "markdown",
   "metadata": {},
   "source": [
    "# Classification of stars, galaxies, and quasars\n",
    "\n",
    "Using a query, you should try to obtain three data files each contains 10000 observations of stars, galaxies, and quasars, respectively, which are distinctly different objects.\n",
    "\n",
    "As this is data resuting from a (raw) query, it has got several missing/9999 values and other flaws to consider, before applying any further data analysis. You need to fix this!\n",
    "\n",
    "Thus, this exercise first consists of **Inspecting and Cleaning the data**.\n",
    "\n",
    "### Features:\n",
    "The data features / input variables (X) are:\n",
    "* ID:   unique object ID in the database\n",
    "* ra:   right ascension (coordinate)\n",
    "* dec:  declination (coordinate)\n",
    "* istar:        log-likelihood that the object is point-like, given by the pipeline run on the images\n",
    "* gmag:  magnitude in g-band\n",
    "* rmag: magnitude in r-band\n",
    "* imag: magnitude in i-band\n",
    "* zmag: magnitude in z-band\n",
    "* W1:   magnitude in W1-band (from AllWISE)\n",
    "* W2:   magnitude in W2-band (from AllWISE)\n",
    "* psfgmag:      PSF magnitude in g-band (i.e. the best-fit magnitude of a point-like object fit to the pixel data)\n",
    "* psfrmag:      PSF magnitude in r-band (i.e. the best-fit magnitude of a point-like object fit to the pixel data)\n",
    "* psfimag:      PSF magnitude in i-band (i.e. the best-fit magnitude of a point-like object fit to the pixel data)\n",
    "* W3:   magnitude in W3-band (from AllWISE)\n",
    "* W3err:        uncertainty on magnitude in W1-band (from AllWISE)\n",
    "* J:    magnitude in J-band (from 2MASS, in AllWISE)\n",
    "* Jerr: uncertainty on J\n",
    "* H:    magnitude in J-band (from 2MASS, in AllWISE)\n",
    "* Herr: uncertainty on H\n",
    "* K:    magnitude in J-band (from 2MASS, in AllWISE)\n",
    "* Kerr: uncertainty on K\n",
    "* umag: magnitude in u-band\n",
    "* zs: \"true\" redshift\n",
    "\n",
    "Make sure that you shortly think about (and discuss) which of these features should be included, if you want to try to identify which type of object it is.\n",
    "\n",
    "Also, this time there is no target value (Y) given in the data. However, given the query selection (by other means) to be stars, galaxies, and quasars, you can consider the file type to be the target. But you need to put these three files together and add a column with the target (i.e. file origin) value.\n",
    "\n",
    "\n",
    "### Task:\n",
    "Thus, the task before you is to:<br>\n",
    "1) Make three queries, which produces three files of data containing stars, galaxies, and quasars.<br>\n",
    "2) Combine the three data files into one, which has a target value corresponding to the file type.<br>\n",
    "3) Read and inspect this data, and make sure that you understand what it (roughly) looks like.<br>\n",
    "4) Clean/cut (or impute) the data, such that different (unsupervised) analysis techniques will work.<br>\n",
    "5) Run a (k)PCA (and later other techniques) on it, and see what the resulting distributions looks like.<br>\n",
    "\n",
    "Do you in the end manage to get e.g. get three well separated classes out?<br>\n",
    "\n",
    "***\n",
    "\n",
    "* Author: Troels C. Petersen (NBI)\n",
    "* Email:  petersen@nbi.dk\n",
    "* Date:   3rd of May 2021"
   ]
  },
  {
   "cell_type": "code",
   "execution_count": 2,
   "metadata": {},
   "outputs": [],
   "source": [
    "from __future__ import print_function, division   # Ensures Python3 printing & division standard\n",
    "from matplotlib import pyplot as plt\n",
    "import numpy as np\n",
    "import pandas as pd"
   ]
  },
  {
   "cell_type": "code",
   "execution_count": 32,
   "metadata": {
    "tags": []
   },
   "outputs": [
    {
     "output_type": "stream",
     "name": "stdout",
     "text": [
      "                       ID          ra        dec         istar      gmag  \\\n0     1237649918426415808    9.254510  13.818784     -28.58386  22.80513   \n1     1237652942639202897    1.786889  14.392791     -28.20103  22.61204   \n2     1237652942639267859    1.908622  14.497953   -6275.14600  18.34751   \n3     1237652942639333782    2.068091  14.467087     -19.42173  22.34108   \n4     1237652944249028825  359.916063  15.607598   -2156.05200  18.68034   \n...                   ...         ...        ...           ...       ...   \n9995  1237652947458392293   15.030862 -10.041520   -2580.91400  17.32711   \n9996  1237652947458523189   15.331162  -9.845271 -105325.90000  14.47522   \n9997  1237652947458523325   15.319195  -9.951411   -2433.99900  18.78175   \n9998  1237652947458588827   15.494276  -9.964049   -3581.63600  18.67374   \n9999  1237652947989495941    1.719409  -9.755432  -13278.68000  17.32711   \n\n          rmag      imag      zmag      W1      W2  ...     W3err         J  \\\n0     20.86707  19.86073  19.40347  15.624  15.748  ...  9999.000  9999.000   \n1     20.91495  19.98573  19.42935  15.631  15.854  ...  9999.000  9999.000   \n2     17.21329  16.71394  16.31988  13.916  13.749  ...     0.391    15.932   \n3     20.65322  19.75191  19.19925  15.872  15.847  ...  9999.000  9999.000   \n4     17.69513  17.26544  16.89467  14.558  14.451  ...  9999.000    16.035   \n...        ...       ...       ...     ...     ...  ...       ...       ...   \n9995  16.83488  16.58213  16.36450  15.554  15.537  ...     0.420  9999.000   \n9996  13.71970  13.36448  13.03930  11.049  10.834  ...     0.016    13.426   \n9997  17.68807  17.24063  16.86240  14.496  14.321  ...  9999.000    16.346   \n9998  17.43416  16.86786  16.49140  14.040  13.794  ...     0.406    15.973   \n9999  16.32210  15.85048  15.46411  13.257  13.086  ...     0.131    15.259   \n\n          Jerr         H      Herr         K      Kerr      umag        zs  \\\n0     9999.000  9999.000  9999.000  9999.000  9999.000  23.42103  0.507542   \n1     9999.000  9999.000  9999.000  9999.000  9999.000  22.55242  0.532977   \n2        0.092    14.987     0.081    14.563     0.109  20.42177  0.115254   \n3     9999.000  9999.000  9999.000  9999.000  9999.000  24.11596  0.517908   \n4        0.089    15.456     0.135    15.115     0.142  20.62453  0.119736   \n...        ...       ...       ...       ...       ...       ...       ...   \n9995  9999.000  9999.000  9999.000  9999.000  9999.000  18.59834  0.029890   \n9996     0.073    12.620     0.091    12.067     0.054  15.82969  0.015315   \n9997     0.106    15.430     0.122    15.374     0.207  20.75214  0.147477   \n9998     0.098    15.120     0.103    14.522     0.098  21.41146  0.152334   \n9999     0.071    14.440     0.072    14.043     0.072  19.19715  0.112192   \n\n                 Source  \n0     Data_Galaxies.txt  \n1     Data_Galaxies.txt  \n2     Data_Galaxies.txt  \n3     Data_Galaxies.txt  \n4     Data_Galaxies.txt  \n...                 ...  \n9995  Data_Galaxies.txt  \n9996  Data_Galaxies.txt  \n9997  Data_Galaxies.txt  \n9998  Data_Galaxies.txt  \n9999  Data_Galaxies.txt  \n\n[10000 rows x 24 columns]\n                       ID         ra        dec      istar      gmag  \\\n0     1237645942898230097  40.579348   0.182010  -0.000038  22.33025   \n1     1237649919508742496  29.364459  13.326551  -0.151343  21.96974   \n2     1237649954405155462  23.491789  14.529409 -27.725040  22.69162   \n3     1237652900211524103   0.660074 -10.197173  -0.659710  21.82844   \n4     1237652900759404557  26.152070  -9.256193  -6.162072  18.17460   \n...                   ...        ...        ...        ...       ...   \n9995  1237678789739282656  14.720795  26.534838  -1.819994  20.45325   \n9996  1237678791350288678  15.885986  27.806083  -0.021549  19.98466   \n9997  1237678791350616442  16.787513  27.746801  -1.796723  20.49177   \n9998  1237678791350682026  16.887724  27.734592  -3.358170  20.29236   \n9999  1237678791887421621  16.643752  28.214216  -0.012708  19.87621   \n\n          rmag      imag      zmag      W1      W2  ...     W3err       J  \\\n0     22.16315  21.56890  21.88052  16.895  15.673  ...     0.452  9999.0   \n1     21.76619  21.63129  20.96899  17.573  15.876  ...     0.406  9999.0   \n2     20.80834  19.94251  19.78168  15.586  15.314  ...     0.237  9999.0   \n3     20.25626  20.03687  19.85782  17.053  16.357  ...     0.311  9999.0   \n4     18.31636  18.20823  18.33771  13.849  12.739  ...     0.040  9999.0   \n...        ...       ...       ...     ...     ...  ...       ...     ...   \n9995  20.39415  20.19742  20.08184  16.510  15.631  ...     0.246  9999.0   \n9996  19.74499  19.68922  19.83176  16.016  14.809  ...     0.294  9999.0   \n9997  20.07162  20.01310  19.96106  16.740  15.866  ...  9999.000  9999.0   \n9998  19.98743  19.90778  19.90461  16.793  16.204  ...  9999.000  9999.0   \n9999  19.82763  19.73734  19.68538  16.673  15.517  ...     0.265  9999.0   \n\n        Jerr       H    Herr       K    Kerr      umag        zs  \\\n0     9999.0  9999.0  9999.0  9999.0  9999.0  23.45584  1.570309   \n1     9999.0  9999.0  9999.0  9999.0  9999.0  22.43309  0.727168   \n2     9999.0  9999.0  9999.0  9999.0  9999.0  25.22437  1.290793   \n3     9999.0  9999.0  9999.0  9999.0  9999.0  26.16051  3.942832   \n4     9999.0  9999.0  9999.0  9999.0  9999.0  18.50738  0.640895   \n...      ...     ...     ...     ...     ...       ...       ...   \n9995  9999.0  9999.0  9999.0  9999.0  9999.0  21.11433  0.636853   \n9996  9999.0  9999.0  9999.0  9999.0  9999.0  19.98397  1.367804   \n9997  9999.0  9999.0  9999.0  9999.0  9999.0  20.42931  1.189260   \n9998  9999.0  9999.0  9999.0  9999.0  9999.0  22.13712  3.143484   \n9999  9999.0  9999.0  9999.0  9999.0  9999.0  20.59113  2.614865   \n\n                Source  \n0     Data_Quasars.txt  \n1     Data_Quasars.txt  \n2     Data_Quasars.txt  \n3     Data_Quasars.txt  \n4     Data_Quasars.txt  \n...                ...  \n9995  Data_Quasars.txt  \n9996  Data_Quasars.txt  \n9997  Data_Quasars.txt  \n9998  Data_Quasars.txt  \n9999  Data_Quasars.txt  \n\n[10000 rows x 24 columns]\n                       ID         ra        dec       istar      gmag  \\\n0     1237649918427004965  10.573414  13.870977 -178.483600  15.95227   \n1     1237649918427070483  10.765269  13.788592  -73.719760  16.24094   \n2     1237649918964269129  11.509417  14.130250  -94.353020  16.68913   \n3     1237649918964531382  12.119282  14.239385   -0.187726  21.10751   \n4     1237649919500091485   9.047960  14.613012   -0.740747  18.93975   \n...                   ...        ...        ...         ...       ...   \n9995  1237663784751792318  40.044881   0.609199   -2.785142  19.04584   \n9996  1237663785276801114  12.901164   0.980016  -46.915640  18.00692   \n9997  1237663785276932271  13.237769   1.012060  -18.991050  21.02905   \n9998  1237663785277194303  13.849441   0.903742 -210.847900  15.61581   \n9999  1237663785277259952  14.057410   0.914362  -73.580420  17.88042   \n\n          rmag      imag      zmag      W1      W2  ...     W3err         J  \\\n0     15.30059  15.08865  14.98511  13.555  13.624  ...  9999.000    14.113   \n1     15.63130  15.43697  15.33327  13.932  13.947  ...  9999.000    14.482   \n2     15.74215  15.36196  15.13191  13.166  13.252  ...  9999.000    13.983   \n3     19.37911  18.16830  17.38621  15.004  14.762  ...  9999.000    16.148   \n4     18.47752  18.26992  18.17452  16.911  16.929  ...     0.327  9999.000   \n...        ...       ...       ...     ...     ...  ...       ...       ...   \n9995  17.62281  16.71206  16.23755  13.954  13.929  ...  9999.000    14.946   \n9996  17.33035  17.08265  16.99487  15.410  15.403  ...  9999.000    16.252   \n9997  19.46825  18.06293  17.28976  14.822  14.947  ...  9999.000    15.904   \n9998  15.09167  14.93607  14.87516  13.504  13.550  ...  9999.000    13.972   \n9999  16.45881  15.18252  14.50631  12.128  11.981  ...     0.309    13.141   \n\n          Jerr         H      Herr         K      Kerr      umag        zs  \\\n0        0.034    13.720     0.035    13.615     0.035  17.68270 -0.000238   \n1        0.039    14.056     0.042    13.930     0.042  17.80628 -0.000150   \n2        0.029    13.357     0.035    13.258     0.031  18.98261 -0.000446   \n3        0.082    15.431     0.106    14.908     0.103  22.94663  0.000159   \n4     9999.000  9999.000  9999.000  9999.000  9999.000  20.01101 -0.000929   \n...        ...       ...       ...       ...       ...       ...       ...   \n9995     0.040    14.364     0.037    14.073     0.050  21.74448  0.000074   \n9996     0.105    15.438     0.124    15.819     0.221  19.69802 -0.000523   \n9997     0.075    15.206     0.105    15.185     0.148  23.24605 -0.000150   \n9998     0.028    13.576     0.029    13.566     0.044  17.23314  0.000097   \n9999     0.024    12.566     0.027    12.290     0.019  20.44086 -0.000133   \n\n              Source  \n0     Data_Stars.txt  \n1     Data_Stars.txt  \n2     Data_Stars.txt  \n3     Data_Stars.txt  \n4     Data_Stars.txt  \n...              ...  \n9995  Data_Stars.txt  \n9996  Data_Stars.txt  \n9997  Data_Stars.txt  \n9998  Data_Stars.txt  \n9999  Data_Stars.txt  \n\n[10000 rows x 24 columns]\n"
     ]
    },
    {
     "output_type": "error",
     "ename": "TypeError",
     "evalue": "merge() missing 1 required positional argument: 'right'",
     "traceback": [
      "\u001b[1;31m---------------------------------------------------------------------------\u001b[0m",
      "\u001b[1;31mTypeError\u001b[0m                                 Traceback (most recent call last)",
      "\u001b[1;32m<ipython-input-32-d921c3ecf41f>\u001b[0m in \u001b[0;36m<module>\u001b[1;34m\u001b[0m\n\u001b[0;32m     17\u001b[0m \u001b[1;33m\u001b[0m\u001b[0m\n\u001b[0;32m     18\u001b[0m \u001b[1;31m#df_final = reduce(lambda left,right: pd.merge(left,right), li)\u001b[0m\u001b[1;33m\u001b[0m\u001b[1;33m\u001b[0m\u001b[1;33m\u001b[0m\u001b[0m\n\u001b[1;32m---> 19\u001b[1;33m \u001b[0mdf_final\u001b[0m \u001b[1;33m=\u001b[0m \u001b[0mpd\u001b[0m\u001b[1;33m.\u001b[0m\u001b[0mmerge\u001b[0m\u001b[1;33m(\u001b[0m\u001b[0mli\u001b[0m\u001b[1;33m)\u001b[0m\u001b[1;33m\u001b[0m\u001b[1;33m\u001b[0m\u001b[0m\n\u001b[0m\u001b[0;32m     20\u001b[0m \u001b[1;33m\u001b[0m\u001b[0m\n\u001b[0;32m     21\u001b[0m \u001b[0mprint\u001b[0m\u001b[1;33m(\u001b[0m\u001b[0mdf_final\u001b[0m\u001b[1;33m)\u001b[0m\u001b[1;33m\u001b[0m\u001b[1;33m\u001b[0m\u001b[0m\n",
      "\u001b[1;31mTypeError\u001b[0m: merge() missing 1 required positional argument: 'right'"
     ]
    }
   ],
   "source": [
    "from functools import reduce\n",
    "\n",
    "allfiles = ['Data_Galaxies.txt','Data_Quasars.txt','Data_Stars.txt']\n",
    "\n",
    "colnames =  ['ID','ra','dec','istar','gmag','rmag','imag','zmag','W1','W2','psfgmag','psfrmag','psfimag','W3','W3err','J','Jerr','H','Herr','K','Kerr','umag','zs']\n",
    "\n",
    "li = []\n",
    "\n",
    "for file in allfiles:\n",
    "    df = pd.read_csv(file)\n",
    "    df.columns = colnames\n",
    "    df['Source'] = file\n",
    "    print(df)\n",
    "    li.append(df)\n",
    "\n",
    "\n",
    "\n",
    "#df_final = reduce(lambda left,right: pd.merge(left,right), li)\n",
    "df_final = pd.concat(li)\n",
    "\n",
    "print(df_final)\n"
   ]
  },
  {
   "cell_type": "code",
   "execution_count": null,
   "metadata": {},
   "outputs": [],
   "source": []
  }
 ],
 "metadata": {
  "kernelspec": {
   "name": "python394jvsc74a57bd09aed9794011b56b1cb8549bc1e0a0dcbbbde7b95376fab0f8fdec0319b06a8fb",
   "display_name": "Python 3.9.4 64-bit"
  },
  "language_info": {
   "codemirror_mode": {
    "name": "ipython",
    "version": 3
   },
   "file_extension": ".py",
   "mimetype": "text/x-python",
   "name": "python",
   "nbconvert_exporter": "python",
   "pygments_lexer": "ipython3",
   "version": "3.9.4"
  },
  "metadata": {
   "interpreter": {
    "hash": "9aed9794011b56b1cb8549bc1e0a0dcbbbde7b95376fab0f8fdec0319b06a8fb"
   }
  }
 },
 "nbformat": 4,
 "nbformat_minor": 2
}